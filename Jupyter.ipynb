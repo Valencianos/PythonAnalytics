{
 "cells": [
  {
   "cell_type": "markdown",
   "metadata": {},
   "source": [
    "__Seminar 1__\n",
    "_Task 1_\n",
    "1.1 Соедините два словаря в один\n",
    "1.2 Напишите функцию, которая на вход принимает два\n",
    "словаря и возвращает один объединенный словарь"
   ]
  },
  {
   "cell_type": "code",
   "execution_count": 4,
   "metadata": {},
   "outputs": [
    {
     "data": {
      "text/plain": [
       "{'one': 1, 'two': 2, 'three': 3, 'four': 4, 'five': 5, 'six': 6}"
      ]
     },
     "execution_count": 4,
     "metadata": {},
     "output_type": "execute_result"
    }
   ],
   "source": [
    "dict1 = {'one': 1, 'two': 2, 'three': 3}\n",
    "dict2 = {'four': 4, 'five': 5, 'six': 6}\n",
    "dict1.update(dict2)\n",
    "dict1"
   ]
  },
  {
   "cell_type": "code",
   "execution_count": 5,
   "metadata": {},
   "outputs": [
    {
     "data": {
      "text/plain": [
       "{'one': 1, 'two': 2, 'three': 3, 'four': 4, 'five': 5, 'six': 6}"
      ]
     },
     "execution_count": 5,
     "metadata": {},
     "output_type": "execute_result"
    }
   ],
   "source": [
    "def mergeDict(dict1: dict, dict2: dict) -> dict:\n",
    "    return dict1.update(dict2)\n",
    "mergeDict(dict1, dict2)\n",
    "dict1"
   ]
  },
  {
   "cell_type": "markdown",
   "metadata": {},
   "source": [
    "_Task2_\n",
    "Напишите функцию, которая из двух списков, делает один словарь, где\n",
    "элементы из первого списка - ключи, а элементы из второго списка -\n",
    "значения\n",
    "2.1 Используя цикл for\n",
    "2.2 Используя dict comprehensions"
   ]
  },
  {
   "cell_type": "code",
   "execution_count": 9,
   "metadata": {},
   "outputs": [
    {
     "data": {
      "text/plain": [
       "{'one': 1, 'two': 2, 'three': 3}"
      ]
     },
     "execution_count": 9,
     "metadata": {},
     "output_type": "execute_result"
    }
   ],
   "source": [
    "keys = ['one', 'two', 'three']\n",
    "values = [1, 2, 3]\n",
    "dicti = {}\n",
    "for i in range(len(keys)):\n",
    "    dicti.setdefault(keys[i], values[i])\n",
    "dicti"
   ]
  },
  {
   "cell_type": "code",
   "execution_count": 10,
   "metadata": {},
   "outputs": [
    {
     "data": {
      "text/plain": [
       "{'one': 1, 'two': 2, 'three': 3}"
      ]
     },
     "execution_count": 10,
     "metadata": {},
     "output_type": "execute_result"
    }
   ],
   "source": [
    "res = {keys[i]: values[i] for i in range(len(keys))}\n",
    "res"
   ]
  },
  {
   "cell_type": "markdown",
   "metadata": {},
   "source": [
    "_Task3_\n",
    "Извлеките только два ключа name и age из представленного\n",
    "словаря\n",
    "3.1 Напишите функцию с циклом for\n",
    "Функция на вход принимает:\n",
    "исходный словарь\n",
    "ключи, которые нужно извлечь (аргумент по\n",
    "умолчанию)\n",
    "На выходе словарь с нужными ключами\n",
    "Используйте аннотирование типов\n",
    "3.2 Используя dict comprehensions"
   ]
  },
  {
   "cell_type": "code",
   "execution_count": 14,
   "metadata": {},
   "outputs": [
    {
     "data": {
      "text/plain": [
       "{'name': 'John', 'age': 25}"
      ]
     },
     "execution_count": 14,
     "metadata": {},
     "output_type": "execute_result"
    }
   ],
   "source": [
    "client_dict = {'name': 'John', 'age': 25, 'salary': 5000, 'city': 'Moscow'}\n",
    "def chooseData(dict1: dict, val_a = 'name', val_b = 'age') -> dict:\n",
    "    temp_dict = {}\n",
    "    for k in dict1.keys():\n",
    "        if(k == val_a or k == val_b):\n",
    "            temp_dict.setdefault(k, client_dict.get(k))\n",
    "    return temp_dict\n",
    "chooseData(client_dict)\n"
   ]
  },
  {
   "cell_type": "code",
   "execution_count": 27,
   "metadata": {},
   "outputs": [
    {
     "data": {
      "text/plain": [
       "{'name': 'John', 'age': 25}"
      ]
     },
     "execution_count": 27,
     "metadata": {},
     "output_type": "execute_result"
    }
   ],
   "source": [
    "res = {i: client_dict.get(i) for i in client_dict.keys() if (i == 'name') or (i == 'age')}\n",
    "res"
   ]
  },
  {
   "cell_type": "markdown",
   "metadata": {},
   "source": [
    "_Task4_\n",
    "Сгенерируйте случайные целые числа от 0 до\n",
    "100 в количестве 5 штук с помощью модуля\n",
    "random\n",
    "● Зафиксируйте псевдогенерацию, чтобы\n",
    "сгенерированные значения всегда были одинаковые\n",
    "● Используйте list comprehensions"
   ]
  },
  {
   "cell_type": "code",
   "execution_count": 24,
   "metadata": {},
   "outputs": [
    {
     "data": {
      "text/plain": [
       "[79, 32, 94, 45, 101]"
      ]
     },
     "execution_count": 24,
     "metadata": {},
     "output_type": "execute_result"
    }
   ],
   "source": [
    "import random\n",
    "random.seed(5)\n",
    "res = []\n",
    "i = 0\n",
    "while (i < 5):\n",
    "    res.append(random.randint(0,101))\n",
    "    i += 1\n",
    "res"
   ]
  },
  {
   "cell_type": "code",
   "execution_count": 25,
   "metadata": {},
   "outputs": [
    {
     "data": {
      "text/plain": [
       "[88, 94, 83, 67, 3]"
      ]
     },
     "execution_count": 25,
     "metadata": {},
     "output_type": "execute_result"
    }
   ],
   "source": [
    "res = [random.randint(0,101) for i in range(5)]\n",
    "res"
   ]
  },
  {
   "cell_type": "markdown",
   "metadata": {},
   "source": [
    "__Homework__\n",
    "_Task2_\n",
    "На складе лежат разные фрукты в разном количестве.\n",
    "Нужно написать функцию, которая на вход принимает любое количество названий фруктов и их количество, а возвращает общее количество фруктов на складе"
   ]
  },
  {
   "cell_type": "code",
   "execution_count": 28,
   "metadata": {},
   "outputs": [
    {
     "data": {
      "text/plain": [
       "20"
      ]
     },
     "execution_count": 28,
     "metadata": {},
     "output_type": "execute_result"
    }
   ],
   "source": [
    "fruits = {'apples':12, 'peaches':6, 'pineapples':2}\n",
    "def fruit_count(my_dict: dict) -> int:\n",
    "    sum_ = 0\n",
    "    for i in my_dict.values():\n",
    "        sum_ += i\n",
    "    return sum_\n",
    "\n",
    "fruit_count(fruits)"
   ]
  },
  {
   "cell_type": "markdown",
   "metadata": {},
   "source": [
    "_Task3_\n",
    "Дан список с затратами на рекламу. Но в данных есть ошибки,\n",
    "некоторые затраты имеют отрицательную величину. Удалите\n",
    "такие значения из списка и посчитайте суммарные затраты\n",
    "Используйте list comprehensions"
   ]
  },
  {
   "cell_type": "code",
   "execution_count": 32,
   "metadata": {},
   "outputs": [
    {
     "data": {
      "text/plain": [
       "1425"
      ]
     },
     "execution_count": 32,
     "metadata": {},
     "output_type": "execute_result"
    }
   ],
   "source": [
    "my_list = [100, 125, -90, 345, 655, -1, 0, 200]\n",
    "sum_ = 0\n",
    "res = sum([i if i > 0 else 0 for i in my_list])\n",
    "res"
   ]
  },
  {
   "cell_type": "markdown",
   "metadata": {},
   "source": [
    "_Task4_\n",
    "Даны два списка.\n",
    "4.1 Найдите, какая выручка у компании в ноябре\n",
    "Используйте list comprehensions\n",
    "4.2 Найдите выручку компании в зависимости от месяца\n",
    "Для этого напишите функцию, которая на вход принимает список с датами и список с выручкой, а на выходе словарь, где\n",
    "ключи - это месяцы, а значения - это выручка."
   ]
  },
  {
   "cell_type": "code",
   "execution_count": 9,
   "metadata": {},
   "outputs": [
    {
     "data": {
      "text/plain": [
       "25098"
      ]
     },
     "execution_count": 9,
     "metadata": {},
     "output_type": "execute_result"
    }
   ],
   "source": [
    "buy_date = ['2021-09-14', '2021-12-15', '2021-09-08', '2021-12-05', '2021-10-09', '2021-09-30', '2021-12-22', '2021-11-29', '2021-12-24',\n",
    "            '2021-11-26', '2021-10-27', '2021-12-18', '2021-11-09', '2021-11-23', '2021-09-27', '2021-10-02', '2021-12-27', '2021-09-20', \n",
    "            '2021-12-13', '2021-11-01', '2021-11-09', '2021-12-06', '2021-12-08', '2021-10-09', '2021-10-31', '2021-09-30', '2021-11-09', \n",
    "            '2021-12-13', '2021-10-26', '2021-12-09']\n",
    "buy_cost = [1270, 8413, 9028, 3703, 5739, 4095, 295, 4944, 5723, 3701, 4471, 651, 7037, 4274, 6275, 4988, 6930, 2971, 6592, 2004, 2822,\n",
    "             519, 3406, 2732, 5015, 2008, 316, 6333, 5700, 2887]\n",
    "\n",
    "index = 0\n",
    "new_date = []\n",
    "for i in buy_date:\n",
    "    temp = i.split(\"-\")\n",
    "    if int(temp[1]) == 11:\n",
    "        new_date.append(buy_cost[index])\n",
    "    index += 1\n",
    "res = sum(new_date)\n",
    "res\n"
   ]
  }
 ],
 "metadata": {
  "kernelspec": {
   "display_name": "Python 3",
   "language": "python",
   "name": "python3"
  },
  "language_info": {
   "codemirror_mode": {
    "name": "ipython",
    "version": 3
   },
   "file_extension": ".py",
   "mimetype": "text/x-python",
   "name": "python",
   "nbconvert_exporter": "python",
   "pygments_lexer": "ipython3",
   "version": "3.11.4"
  },
  "orig_nbformat": 4
 },
 "nbformat": 4,
 "nbformat_minor": 2
}
